{
 "cells": [
  {
   "cell_type": "code",
   "execution_count": 8,
   "metadata": {},
   "outputs": [],
   "source": [
    "import json\n",
    "import pandas as pd"
   ]
  },
  {
   "cell_type": "code",
   "execution_count": 3,
   "metadata": {},
   "outputs": [],
   "source": [
    "with open('CDASH-2-3-IG.json') as file:\n",
    "    data = json.load(file)"
   ]
  },
  {
   "cell_type": "code",
   "execution_count": 9,
   "metadata": {},
   "outputs": [
    {
     "name": "stdout",
     "output_type": "stream",
     "text": [
      "AG | Procedure Agents | An interventions domain that contains the agents administered to the subject as part of a procedure or assessment, as opposed to drugs, medications and therapies administered with therapeutic intent. (Source: CDISC Controlled Terminology, DOMAIN, C117755, 2023-6-28)\n",
      "CM | Concomitant/Prior Medications | An interventions domain that contains concomitant and prior medications used by the subject, such as those given on an as needed basis or condition-appropriate medications. (Source: CDISC Controlled Terminology, DOMAIN, C49568, 2023-6-28)\n",
      "EC | Exposure as Collected | An interventions domain that contains information about protocol-specified study treatment administrations, as collected. (Source: CDISC Controlled Terminology, DOMAIN, C117466, 2023-6-28)\n",
      "EX | Exposure | An interventions domain that contains the details of a subject's exposure to protocol-specified study treatment. Study treatment may be any intervention that is prospectively defined as a test material within a study, and is typically but not always supplied to the subject. (Source: CDISC Controlled Terminology, DOMAIN, C49587, 2023-6-28)\n",
      "ML | Meal Data | An interventions domain that contains information describing a subject's food product consumption. (Source: CDISC Controlled Terminology, DOMAIN, C49604, 2023-6-28)\n",
      "PR | Procedures | An interventions domain that contains interventional activity intended to have diagnostic, preventive, therapeutic, or palliative effects. (Source: CDISC Controlled Terminology, DOMAIN, C102700, 2023-6-28)\n",
      "SU | Substance Use | An interventions domain that contains substance use information that may be used to assess the efficacy and/or safety of therapies that look to mitigate the effects of chronic substance use. (Source: CDISC Controlled Terminology, DOMAIN, C49615, 2023-6-28)\n",
      "AE | Adverse Events | An events domain that contains data describing untoward medical occurrences in a patient or subjects that are administered a pharmaceutical product and which may not necessarily have a causal relationship with the treatment. (Source: CDISC Controlled Terminology, DOMAIN, C49562, 2023-6-28)\n",
      "CE | Clinical Events | An events domain that contains clinical events of interest that would not be classified as adverse events. (Source: CDISC Controlled Terminology, DOMAIN, C85441, 2023-6-28)\n",
      "DS | Disposition | An events domain that contains information encompassing and representing data related to subject disposition. (Source: CDISC Controlled Terminology, DOMAIN, C49576, 2023-6-28)\n",
      "DV | Protocol Deviations | An events domain that contains protocol violations and deviations during the course of the study. (Source: CDISC Controlled Terminology, DOMAIN, C49585, 2023-6-28)\n",
      "HO | Healthcare Encounters | A events domain that contains data for inpatient and outpatient healthcare events (e.g., hospitalization, nursing home stay, rehabilitation facility stay, ambulatory surgery). (Source: CDISC Controlled Terminology, DOMAIN, C117757, 2023-6-28)\n",
      "MH | Medical History | An events domain that contains data that includes the subject's prior medical history at the start of the trial. (Source: CDISC Controlled Terminology, DOMAIN, C49603, 2023-6-28)\n",
      "SA | Serious Adverse Events | An events domain that contains data describing untoward medical occurrences considered serious (SAE) in a patient or subjects that are administered a pharmaceutical product and which may not necessarily have a causal relationship with the treatment. (Source: CDISC Controlled Terminology, DOMAIN, C177945, 2023-6-28)\n",
      "CP | Cell Phenotype Findings | A findings domain that contains data related to the characterization of cell phenotype, lineage, and function based on expression of specific markers in single cell or particle suspensions. (Source: CDISC Controlled Terminology, DOMAIN, C181319, 2023-6-28)\n",
      "CV | Cardiovascular System Findings | A findings domain that contains physiological and morphological findings related to the cardiovascular system, including the heart, blood vessels and lymphatic vessels. (Source: CDISC Controlled Terminology, DOMAIN, C102605, 2023-6-28)\n",
      "DA | Product Accountability | A findings domain that contains the accountability of study product, such as information on the receipt, dispensing, return, and packaging. (Source: CDISC Controlled Terminology, DOMAIN, C49578, 2023-6-28)\n",
      "DD | Death Details | A findings domain that contains the diagnosis of the cause of death for a subject. (Source: CDISC Controlled Terminology, DOMAIN, C95087, 2023-6-28)\n",
      "EG | ECG Test Results | A findings domain that contains ECG data, including position of the subject, method of evaluation, all cycle measurements and all findings from the ECG including an overall interpretation if collected or derived. (Source: CDISC Controlled Terminology, DOMAIN, C49626, 2023-6-28)\n",
      "GF | Genomics Findings | A findings domain that contains data related to the structure, function, evolution, mapping, and editing of subject and non-host organism genomic material of interest. This domain includes but is not limited to assessments and results for genetic variation and transcription, and summary measures derived from these assessments. The GF domain is used for findings from characteristics assessed from nucleic acids and may include subsequent inferences and/or predictions about related proteins/amino acids. (Source: CDISC Controlled Terminology, DOMAIN, C181320, 2023-6-28)\n",
      "IE | Inclusion/Exclusion Criteria Not Met | A findings domain that contains those criteria that cause the subject to be in violation of the inclusion/exclusion criteria. (Source: CDISC Controlled Terminology, DOMAIN, C61536, 2023-6-28)\n",
      "LB | Laboratory Test Results | A findings domain that contains laboratory test data such as hematology, clinical chemistry and urinalysis. This domain does not include microbiology or pharmacokinetic data, which are stored in separate domains. (Source: CDISC Controlled Terminology, DOMAIN, C49592, 2023-6-28)\n",
      "MB | Microbiology Specimen | A findings domain that represents non-host organisms identified including bacteria, viruses, parasites, protozoa and fungi. (Source: CDISC Controlled Terminology, DOMAIN, C49602, 2023-6-28)\n",
      "MI | Microscopic Findings | A findings domain that contains histopathology findings and microscopic evaluations. (Source: CDISC Controlled Terminology, DOMAIN, C95095, 2023-6-28)\n",
      "MK | Musculoskeletal System Findings | A findings domain that contains physiological and morphological findings related to the system of muscles, tendons, ligaments, bones, joints, and associated tissues. (Source: CDISC Controlled Terminology, DOMAIN, C102674, 2023-6-28)\n",
      "MS | Microbiology Susceptibility | A findings domain that represents drug susceptibility testing results only. This includes phenotypic testing (where drug is added directly to a culture of organisms) and genotypic tests that provide results in terms of susceptible or resistant. Drug susceptibility testing may occur on a wide variety of non-host organisms, including bacteria, viruses, fungi, protozoa and parasites. (Source: CDISC Controlled Terminology, DOMAIN, C61531, 2023-6-28)\n",
      "NV | Nervous System Findings | A findings domain that contains physiological and morphological findings related to the nervous system, including the brain, spinal cord, the cranial and spinal nerves, autonomic ganglia and plexuses. (Source: CDISC Controlled Terminology, DOMAIN, C102677, 2023-6-28)\n",
      "OE | Ophthalmic Examinations | A findings domain that contains tests that measure a person's ocular health and visual status, to detect abnormalities in the components of the visual system, and to determine how well the person can see. (Source: CDISC Controlled Terminology, DOMAIN, C147180, 2023-6-28)\n",
      "PC | Pharmacokinetics Concentrations | A findings domain that contains concentrations of drugs or metabolites in fluids or tissues as a function of time. (Source: CDISC Controlled Terminology, DOMAIN, C49606, 2023-6-28)\n",
      "PE | Physical Examination | A findings domain that contains findings observed during a physical examination where the body is evaluated by inspection, palpation, percussion, and auscultation. (Source: CDISC Controlled Terminology, DOMAIN, C49608, 2023-6-28)\n",
      "RE | Respiratory System Findings | A findings domain that contains physiological and morphological findings related to the respiratory system, including the organs that are involved in breathing such as the nose, throat, larynx, trachea, bronchi and lungs. (Source: CDISC Controlled Terminology, DOMAIN, C95098, 2023-6-28)\n",
      "RP | Reproductive System Findings | A findings domain that contains physiological and morphological findings related to the male and female reproductive systems. (Source: CDISC Controlled Terminology, DOMAIN, C102707, 2023-6-28)\n",
      "RS | Disease Response and Clin Classification | A findings domain for the assessment of disease response to therapy, or clinical classification based on published criteria. (Source: CDISC Controlled Terminology, DOMAIN, C107097, 2023-6-28)\n",
      "SC | Subject Characteristics | A findings domain that contains subject-related data not collected in other domains. (Source: CDISC Controlled Terminology, DOMAIN, C49610, 2023-6-28)\n",
      "TR | Tumor/Lesion Results | A findings domain that represents quantitative measurements and/or qualitative assessments of the tumors, lesions, or locations of interest identified in the Tumor/Lesion Identification (TU) domain. (Source: CDISC Controlled Terminology, DOMAIN, C106578, 2023-6-28)\n",
      "TU | Tumor/Lesion Identification | A findings domain that represents data that uniquely identifies tumors, lesions, or locations of interest under study. (Source: CDISC Controlled Terminology, DOMAIN, C106577, 2023-6-28)\n",
      "UR | Urinary System Findings | A findings domain that contains physiological and morphological findings related to the urinary tract, including the organs involved in the creation and excretion of urine such as the kidneys, ureters, bladder and urethra. (Source: CDISC Controlled Terminology, DOMAIN, C102726, 2023-6-28)\n",
      "VS | Vital Signs | A findings domain that contains measurements including but not limited to blood pressure, temperature, respiration, body surface area, body mass index, height and weight. (Source: CDISC Controlled Terminology, DOMAIN, C49622, 2023-6-28)\n",
      "FA | Findings About Events or Interventions | A findings domain that contains the findings about an event or intervention that cannot be represented within an events or interventions domain record or as a supplemental qualifier. (Source: CDISC Controlled Terminology, DOMAIN, C85442, 2023-6-28)\n",
      "SR | Skin Response | A findings about domain for submitting dermal responses to antigens. (Source: CDISC Controlled Terminology, DOMAIN, C112420, 2023-6-28)\n",
      "CO | Comments | A special-purpose domain that contains comments that may be collected alongside other data. (Source: CDISC Controlled Terminology, DOMAIN, C49569, 2023-6-28)\n",
      "DM | Demographics | A special-purpose domain that includes a set of essential standard variables that describe each subject in a clinical study. It is the parent domain for all other observations for human clinical subjects. (Source: CDISC Controlled Terminology, DOMAIN, C49572, 2023-6-28)\n"
     ]
    }
   ],
   "source": [
    "# Parse and return the extracted CDASH-IG classes\n",
    "classes = data['classes']\n",
    "\n",
    "for c in classes:\n",
    "    domains = c['domains']\n",
    "    \n",
    "    for d in domains:\n",
    "\n",
    "        #print(d['_links']['self'])\n",
    "        print(d['name'],'|',d['label'],'|',d['description'])\n",
    "\n",
    "        '''\n",
    "        try:\n",
    "            print(d['_links']['scenarios'])\n",
    "        except:\n",
    "            print('No scenarios for this domain')\n",
    "        #print(d['name'], d['label'], d['description'])\n",
    "        '''"
   ]
  },
  {
   "cell_type": "code",
   "execution_count": 5,
   "metadata": {},
   "outputs": [
    {
     "data": {
      "text/plain": [
       "'\\nin CDISC eCRF portal but not in CDISC Library API:\\n\\nAcute Respiratory Infection - Pathogen Testing\\nClinical Classification - no CRF\\nDiabetes Hypoglycemic Event\\nDrug Accountability - Horizontal & Vertical\\nECG Test Results - Central Reading\\n\\n'"
      ]
     },
     "execution_count": 5,
     "metadata": {},
     "output_type": "execute_result"
    }
   ],
   "source": [
    "# Compare which forms are available per the CDISC Library API vs. available in CDISC eCRF Library\n",
    "'''\n",
    "in CDISC eCRF portal but not in CDISC Library API:\n",
    "\n",
    "Acute Respiratory Infection - Pathogen Testing\n",
    "Clinical Classification - no CRF\n",
    "Diabetes Hypoglycemic Event\n",
    "Drug Accountability - Horizontal & Vertical\n",
    "ECG Test Results - Central Reading\n",
    "\n",
    "'''"
   ]
  },
  {
   "cell_type": "code",
   "execution_count": 7,
   "metadata": {},
   "outputs": [
    {
     "name": "stdout",
     "output_type": "stream",
     "text": [
      "Interventions This SDTM class captures investigational, therapeutic and other treatments that are administered to the subject (with some actual or expected physiological effect) either as specified by the study protocol (e.g., exposure to study drug), coincident with the study assessment period (e.g., concomitant medications), or self-administered by the subject (such as use of alcohol, tobacco, or caffeine). (Source: CDISC Controlled Terminology, GNRLOBSC, C103374, 2023-06-30)\n",
      "AG | Procedure Agents\n",
      "Study Identifier A unique identifier for a study.\n",
      "Study Site Identifier A unique identifier for a site within a study.\n",
      "Subject Identifier for the Study A unique subject identifier within a site and a study.\n",
      "Category for Agent A grouping of topic-variable values based on user-defined characteristics.\n",
      "Subcategory for Agent A sub-division of the AGCAT values based on user-defined characteristics.\n",
      "Any Procedure Agent Taken An indication of whether any procedure/assessment agent(s) were administered.\n",
      "AG Sponsor-Defined Identifier A sponsor-defined identifier. In CDASH, this is typically used for preprinted or auto-generated numbers on the CRF, or any other type of identifier that does not already have a defined CDASH identifier field.\n",
      "Reported Agent Name Verbatim name of procedure/assessment agent administered.\n",
      "AG Prespecified An indication that a specific procedure/assessment agent or group of agents is prespecified on a CRF.\n",
      "AG Occurrence An indication whether the given procedure/assessment agent or group of agents was administered when information about the occurrence of a specific procedure/assessment agent is solicited.\n",
      "AG Dose per Administration The dose of procedure/assessment agent (e.g., --TRT ) given at one time represented as a numeric value.\n",
      "Procedure Agents Dose Description The dose of procedure/assessment agent administered per instance.\n",
      "AG Dose Units The unit associated with the procedure/assessment agent.\n",
      "AG Dose Form The pharmaceutical dosage form in which the AGTRT is physically presented.\n",
      "AG Dosing Frequency per Interval The number of doses administered during a specific interval.\n",
      "AG Route of Administration The route of administration of the procedure/assessment agent.\n",
      "Procedure Agent Start Date The start date when the procedure/assessment agent was first administered, represented in an unambiguous date format (e.g., DD-MON-YYYY).\n",
      "Procedure Agent Start Time The time the procedure/assessment agent was started, represented in an ambiguous time format (e.g., h:mm:ss).\n",
      "Prior Procedure Agents Indication the procedure/assessment agent was administered prior to [AGSTTPT] or prior to the date in DM.RFSTDTC.\n",
      "Ongoing Procedure Agents Indication the procedure/assessment agent is ongoing when no end date is provided.\n",
      "Procedure Agents End Date The date the procedure/assessment agent was stopped/ended, represented in an unambiguous date format (e.g. DD-MON-YYYY).\n",
      "Procedure Agents End Time The time the concomitant medication/treatment/therapy was started, represented in an unambiguous time format (e.g., hh:mm:ss).\n",
      "Standardized Agent Name The dictionary or sponsor-defined standardized text description of the topic variable (AGTRT) or the modified topic variable (AGMODIFY), if applicable.\n",
      "AG Agent Class The class for the agent, often obtained from a coding dictionary.\n",
      "AG Agent Class Code The assigned dictionary code for the class of agent.\n"
     ]
    }
   ],
   "source": [
    "# Parse and reformat the CDISC Library to a simpler JSON schema\n",
    "# Testing parsing, full output below\n",
    "\n",
    "classes = data['classes']\n",
    "\n",
    "for c in classes:\n",
    "\n",
    "    class_name = c['_links']['self']['title']\n",
    "    description = c['description']\n",
    "\n",
    "    print(class_name, description)\n",
    "\n",
    "    domains = c['domains']\n",
    "\n",
    "    \n",
    "    for d in domains:\n",
    "\n",
    "        print(d['name'],'|',d['label'])\n",
    "\n",
    "        fields = d['fields']\n",
    "\n",
    "        for f in fields:\n",
    "\n",
    "            field_name = f['_links']['self']['title']\n",
    "            field_description = f['definition']\n",
    "\n",
    "            print(field_name, field_description)\n",
    "\n",
    "        break\n",
    "    break\n"
   ]
  },
  {
   "cell_type": "code",
   "execution_count": 46,
   "metadata": {},
   "outputs": [
    {
     "name": "stdout",
     "output_type": "stream",
     "text": [
      "16048\n"
     ]
    }
   ],
   "source": [
    "# wrangle the CDISC Library CDASH-2-3-IG.json into a simple CSV for ease of use\n",
    "\n",
    "output_df = pd.DataFrame(columns = ['class_name','class_description','domain_name','domain_label','domain_description','field_core','field_definition','field_implementationNotes','field_label','field_mappingInstructions','field_name','field_ordinal','field_prompt','field_questionText','field_simpleDatatype','field_codelistSubmissionValues'])\n",
    "\n",
    "classes = data['classes']\n",
    "for c in classes:\n",
    "\n",
    "    class_name, class_description, domain_name, domain_label, domain_description, field_core, field_definition, field_implementation_notes, field_label, field_mappingInstructions, field_name, field_ordinal, field_prompt, field_questionText, field_simpleDatatype, field_codelistSubmissionValues = '','','','','','','','','','','','','','','',''\n",
    " \n",
    "    class_name = c['_links']['self']['title']\n",
    "    class_description = c['description']\n",
    "    \n",
    "\n",
    "    domains = c['domains']\n",
    "    for d in domains:\n",
    "        \n",
    "        domain_name = d['name']\n",
    "        domain_description = d['description']\n",
    "        domain_label = d['label']\n",
    "\n",
    "        #print(d['name'],'|',d['label'])\n",
    "\n",
    "        try:\n",
    "            fields = d['fields']\n",
    "        except:\n",
    "            next\n",
    "\n",
    "        for f in fields:\n",
    "\n",
    "            try:\n",
    "                field_definition = f['definition']\n",
    "                field_implementation_notes = f[\"implementationNotes\"]\n",
    "                field_label = f['label']\n",
    "                field_core = f['core']\n",
    "                field_mappingInstructions = f['mappingInstructions']\n",
    "                field_name = f['name']\n",
    "                field_ordinal = f['ordinal']\n",
    "                field_prompt = f['prompt']\n",
    "                field_questionText = f['questionText']\n",
    "                field_simpleDatatype = f['simpleDatatype']\n",
    "                field_codelistSubmissionValues = f['codelistSubmissionValues']\n",
    "\n",
    "            except:\n",
    "                pass\n",
    "            \n",
    "            #print(field_name, field_definition)\n",
    "\n",
    "            row_data = pd.DataFrame([[class_name, class_description, domain_name, domain_label, domain_description, field_core, field_definition, field_implementation_notes, field_label, field_mappingInstructions, field_name, field_ordinal, field_prompt, field_questionText, field_simpleDatatype, field_codelistSubmissionValues]], columns = ['class_name','class_description','domain_name','domain_label','domain_description','field_core','field_definition','field_implementationNotes','field_label','field_mappingInstructions','field_name','field_ordinal','field_prompt','field_questionText','field_simpleDatatype','field_codelistSubmissionValues'])\n",
    "            \n",
    "            output_df = pd.concat([output_df,row_data], ignore_index = True)\n",
    "          \n",
    "\n",
    "print(output_df.size)\n",
    "#output_df.head(n=10)\n",
    "\n",
    "    "
   ]
  },
  {
   "cell_type": "code",
   "execution_count": 47,
   "metadata": {},
   "outputs": [],
   "source": [
    "output_df.to_csv('CDASH-2-3-IG.csv')"
   ]
  },
  {
   "cell_type": "code",
   "execution_count": null,
   "metadata": {},
   "outputs": [],
   "source": []
  }
 ],
 "metadata": {
  "kernelspec": {
   "display_name": "scdm_workshop_2024-RLQtTa-6",
   "language": "python",
   "name": "python3"
  },
  "language_info": {
   "codemirror_mode": {
    "name": "ipython",
    "version": 3
   },
   "file_extension": ".py",
   "mimetype": "text/x-python",
   "name": "python",
   "nbconvert_exporter": "python",
   "pygments_lexer": "ipython3",
   "version": "3.10.9"
  },
  "orig_nbformat": 4,
  "vscode": {
   "interpreter": {
    "hash": "67ee1515d03873422e5acee950a92863f4595aca1599cf6a3f7c5f54e5ab1571"
   }
  }
 },
 "nbformat": 4,
 "nbformat_minor": 2
}
