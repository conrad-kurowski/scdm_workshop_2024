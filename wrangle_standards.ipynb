{
 "cells": [
  {
   "cell_type": "code",
   "execution_count": 2,
   "metadata": {},
   "outputs": [],
   "source": [
    "import json"
   ]
  },
  {
   "cell_type": "code",
   "execution_count": 3,
   "metadata": {},
   "outputs": [],
   "source": [
    "with open('CDASH-2-3-IG.json') as file:\n",
    "    data = json.load(file)"
   ]
  },
  {
   "cell_type": "code",
   "execution_count": 8,
   "metadata": {},
   "outputs": [
    {
     "name": "stdout",
     "output_type": "stream",
     "text": [
      "{'href': '/mdr/cdashig/2-3/domains/AG', 'title': 'Procedure Agents', 'type': 'CDASH Domain'}\n",
      "No scenarios for this domain\n",
      "{'href': '/mdr/cdashig/2-3/domains/CM', 'title': 'Concomitant/Prior Medications', 'type': 'CDASH Domain'}\n",
      "No scenarios for this domain\n",
      "{'href': '/mdr/cdashig/2-3/domains/EC', 'title': 'Exposure as Collected', 'type': 'CDASH Domain'}\n",
      "No scenarios for this domain\n",
      "{'href': '/mdr/cdashig/2-3/domains/EX', 'title': 'Exposure', 'type': 'CDASH Domain'}\n",
      "No scenarios for this domain\n",
      "{'href': '/mdr/cdashig/2-3/domains/ML', 'title': 'Meal Data', 'type': 'CDASH Domain'}\n",
      "No scenarios for this domain\n",
      "{'href': '/mdr/cdashig/2-3/domains/PR', 'title': 'Procedures', 'type': 'CDASH Domain'}\n",
      "No scenarios for this domain\n",
      "{'href': '/mdr/cdashig/2-3/domains/SU', 'title': 'Substance Use', 'type': 'CDASH Domain'}\n",
      "No scenarios for this domain\n",
      "{'href': '/mdr/cdashig/2-3/domains/AE', 'title': 'Adverse Events', 'type': 'CDASH Domain'}\n",
      "No scenarios for this domain\n",
      "{'href': '/mdr/cdashig/2-3/domains/CE', 'title': 'Clinical Events', 'type': 'CDASH Domain'}\n",
      "No scenarios for this domain\n",
      "{'href': '/mdr/cdashig/2-3/domains/DS', 'title': 'Disposition', 'type': 'CDASH Domain'}\n",
      "[{'href': '/mdr/cdashig/2-3/scenarios/DS.PROTOCOLMILESTONEOTHEREVENT', 'title': 'PROTOCOL MILESTONE/OTHER EVENT', 'type': 'CDASH Scenario'}, {'href': '/mdr/cdashig/2-3/scenarios/DS.STUDYPARTICIPATIONDISPOSITIONEVENT', 'title': 'STUDY PARTICIPATION DISPOSITION EVENT', 'type': 'CDASH Scenario'}]\n",
      "{'href': '/mdr/cdashig/2-3/domains/DV', 'title': 'Protocol Deviations', 'type': 'CDASH Domain'}\n",
      "No scenarios for this domain\n",
      "{'href': '/mdr/cdashig/2-3/domains/HO', 'title': 'Healthcare Encounters', 'type': 'CDASH Domain'}\n",
      "No scenarios for this domain\n",
      "{'href': '/mdr/cdashig/2-3/domains/MH', 'title': 'Medical History', 'type': 'CDASH Domain'}\n",
      "No scenarios for this domain\n",
      "{'href': '/mdr/cdashig/2-3/domains/SA', 'title': 'Serious Adverse Events', 'type': 'CDASH Domain'}\n",
      "[{'href': '/mdr/cdashig/2-3/scenarios/SA.SAE', 'title': 'SAE', 'type': 'CDASH Scenario'}]\n",
      "{'href': '/mdr/cdashig/2-3/domains/CP', 'title': 'Cell Phenotype Findings', 'type': 'CDASH Domain'}\n",
      "No scenarios for this domain\n",
      "{'href': '/mdr/cdashig/2-3/domains/CV', 'title': 'Cardiovascular System Findings', 'type': 'CDASH Domain'}\n",
      "No scenarios for this domain\n",
      "{'href': '/mdr/cdashig/2-3/domains/DA', 'title': 'Product Accountability', 'type': 'CDASH Domain'}\n",
      "[{'href': '/mdr/cdashig/2-3/scenarios/DA.HorizontalGeneric', 'title': 'Horizontal-Generic', 'type': 'CDASH Scenario'}]\n",
      "{'href': '/mdr/cdashig/2-3/domains/DD', 'title': 'Death Details', 'type': 'CDASH Domain'}\n",
      "[{'href': '/mdr/cdashig/2-3/scenarios/DD.HorizontalGeneric', 'title': 'Horizontal-Generic', 'type': 'CDASH Scenario'}]\n",
      "{'href': '/mdr/cdashig/2-3/domains/EG', 'title': 'ECG Test Results', 'type': 'CDASH Domain'}\n",
      "[{'href': '/mdr/cdashig/2-3/scenarios/EG.CentralReading', 'title': 'Central Reading', 'type': 'CDASH Scenario'}, {'href': '/mdr/cdashig/2-3/scenarios/EG.LocalReading', 'title': 'Local Reading', 'type': 'CDASH Scenario'}, {'href': '/mdr/cdashig/2-3/scenarios/EG.CentralReadingwithInvestigatorAssessment', 'title': 'Central Reading with Investigator Assessment', 'type': 'CDASH Scenario'}]\n",
      "{'href': '/mdr/cdashig/2-3/domains/GF', 'title': 'Genomics Findings', 'type': 'CDASH Domain'}\n",
      "[{'href': '/mdr/cdashig/2-3/scenarios/GF.CentralProcessing', 'title': 'Central Processing', 'type': 'CDASH Scenario'}, {'href': '/mdr/cdashig/2-3/scenarios/GF.LocalProcessing', 'title': 'Local Processing', 'type': 'CDASH Scenario'}]\n",
      "{'href': '/mdr/cdashig/2-3/domains/IE', 'title': 'Inclusion/Exclusion Criteria Not Met', 'type': 'CDASH Domain'}\n",
      "No scenarios for this domain\n",
      "{'href': '/mdr/cdashig/2-3/domains/LB', 'title': 'Laboratory Test Results', 'type': 'CDASH Domain'}\n",
      "[{'href': '/mdr/cdashig/2-3/scenarios/LB.CentralProcessing', 'title': 'Central Processing', 'type': 'CDASH Scenario'}, {'href': '/mdr/cdashig/2-3/scenarios/LB.CentralProcessingwithCS', 'title': 'Central Processing with CS', 'type': 'CDASH Scenario'}, {'href': '/mdr/cdashig/2-3/scenarios/LB.LocalProcessing', 'title': 'Local Processing', 'type': 'CDASH Scenario'}]\n",
      "{'href': '/mdr/cdashig/2-3/domains/MB', 'title': 'Microbiology Specimen', 'type': 'CDASH Domain'}\n",
      "[{'href': '/mdr/cdashig/2-3/scenarios/MB.CentralProcessing', 'title': 'Central Processing', 'type': 'CDASH Scenario'}, {'href': '/mdr/cdashig/2-3/scenarios/MB.LocalProcessing', 'title': 'Local Processing', 'type': 'CDASH Scenario'}]\n",
      "{'href': '/mdr/cdashig/2-3/domains/MI', 'title': 'Microscopic Findings', 'type': 'CDASH Domain'}\n",
      "[{'href': '/mdr/cdashig/2-3/scenarios/MI.CentralProcessing', 'title': 'Central Processing', 'type': 'CDASH Scenario'}, {'href': '/mdr/cdashig/2-3/scenarios/MI.LocalProcessing', 'title': 'Local Processing', 'type': 'CDASH Scenario'}]\n",
      "{'href': '/mdr/cdashig/2-3/domains/MK', 'title': 'Musculoskeletal System Findings', 'type': 'CDASH Domain'}\n",
      "No scenarios for this domain\n",
      "{'href': '/mdr/cdashig/2-3/domains/MS', 'title': 'Microbiology Susceptibility', 'type': 'CDASH Domain'}\n",
      "[{'href': '/mdr/cdashig/2-3/scenarios/MS.CentralProcessing', 'title': 'Central Processing', 'type': 'CDASH Scenario'}, {'href': '/mdr/cdashig/2-3/scenarios/MS.LocalProcessing', 'title': 'Local Processing', 'type': 'CDASH Scenario'}]\n",
      "{'href': '/mdr/cdashig/2-3/domains/NV', 'title': 'Nervous System Findings', 'type': 'CDASH Domain'}\n",
      "No scenarios for this domain\n",
      "{'href': '/mdr/cdashig/2-3/domains/OE', 'title': 'Ophthalmic Examinations', 'type': 'CDASH Domain'}\n",
      "No scenarios for this domain\n",
      "{'href': '/mdr/cdashig/2-3/domains/PC', 'title': 'Pharmacokinetics Concentrations', 'type': 'CDASH Domain'}\n",
      "[{'href': '/mdr/cdashig/2-3/scenarios/PC.PKSampleCollectionatFixedTimePoints', 'title': 'PK Sample Collection at Fixed Time Points', 'type': 'CDASH Scenario'}, {'href': '/mdr/cdashig/2-3/scenarios/PC.PKSampleCollectionoveraTimeInterval', 'title': 'PK Sample Collection over a Time Interval', 'type': 'CDASH Scenario'}]\n",
      "{'href': '/mdr/cdashig/2-3/domains/PE', 'title': 'Physical Examination', 'type': 'CDASH Domain'}\n",
      "[{'href': '/mdr/cdashig/2-3/scenarios/PE.PETraditional', 'title': 'PE-Traditional', 'type': 'CDASH Scenario'}]\n",
      "{'href': '/mdr/cdashig/2-3/domains/RE', 'title': 'Respiratory System Findings', 'type': 'CDASH Domain'}\n",
      "No scenarios for this domain\n",
      "{'href': '/mdr/cdashig/2-3/domains/RP', 'title': 'Reproductive System Findings', 'type': 'CDASH Domain'}\n",
      "No scenarios for this domain\n",
      "{'href': '/mdr/cdashig/2-3/domains/RS', 'title': 'Disease Response and Clin Classification', 'type': 'CDASH Domain'}\n",
      "No scenarios for this domain\n",
      "{'href': '/mdr/cdashig/2-3/domains/SC', 'title': 'Subject Characteristics', 'type': 'CDASH Domain'}\n",
      "[{'href': '/mdr/cdashig/2-3/scenarios/SC.HorizontalGeneric', 'title': 'Horizontal-Generic', 'type': 'CDASH Scenario'}]\n",
      "{'href': '/mdr/cdashig/2-3/domains/TR', 'title': 'Tumor/Lesion Results', 'type': 'CDASH Domain'}\n",
      "No scenarios for this domain\n",
      "{'href': '/mdr/cdashig/2-3/domains/TU', 'title': 'Tumor/Lesion Identification', 'type': 'CDASH Domain'}\n",
      "No scenarios for this domain\n",
      "{'href': '/mdr/cdashig/2-3/domains/UR', 'title': 'Urinary System Findings', 'type': 'CDASH Domain'}\n",
      "No scenarios for this domain\n",
      "{'href': '/mdr/cdashig/2-3/domains/VS', 'title': 'Vital Signs', 'type': 'CDASH Domain'}\n",
      "[{'href': '/mdr/cdashig/2-3/scenarios/VS.HorizontalGeneric', 'title': 'Horizontal-Generic', 'type': 'CDASH Scenario'}]\n",
      "{'href': '/mdr/cdashig/2-3/domains/FA', 'title': 'Findings About Events or Interventions', 'type': 'CDASH Domain'}\n",
      "No scenarios for this domain\n",
      "{'href': '/mdr/cdashig/2-3/domains/SR', 'title': 'Skin Response', 'type': 'CDASH Domain'}\n",
      "No scenarios for this domain\n",
      "{'href': '/mdr/cdashig/2-3/domains/CO', 'title': 'Comments', 'type': 'CDASH Domain'}\n",
      "No scenarios for this domain\n",
      "{'href': '/mdr/cdashig/2-3/domains/DM', 'title': 'Demographics', 'type': 'CDASH Domain'}\n",
      "[{'href': '/mdr/cdashig/2-3/scenarios/DM.Birthdatecollectionusingthreedatefields', 'title': 'Birth date collection using three date fields', 'type': 'CDASH Scenario'}, {'href': '/mdr/cdashig/2-3/scenarios/DM.Birthdatecollectionusingasingledatefield', 'title': 'Birth date collection using a single date field', 'type': 'CDASH Scenario'}]\n"
     ]
    }
   ],
   "source": [
    "# Parse and return the extracted CDASH-IG classes\n",
    "classes = data['classes']\n",
    "\n",
    "for c in classes:\n",
    "    domains = c['domains']\n",
    "    \n",
    "    for d in domains:\n",
    "\n",
    "        print(d['_links']['self'])\n",
    "\n",
    "        try:\n",
    "            print(d['_links']['scenarios'])\n",
    "        except:\n",
    "            print('No scenarios for this domain')\n",
    "        #print(d['name'], d['label'], d['description'])\n"
   ]
  },
  {
   "cell_type": "code",
   "execution_count": null,
   "metadata": {},
   "outputs": [],
   "source": [
    "# Compare which forms are available per the CDISC Library API vs. available in CDISC eCRF Library\n",
    "'''\n",
    "in CDISC eCRF portal but not in CDISC Library API:\n",
    "\n",
    "Acute Respiratory Infection - Pathogen Testing\n",
    "Clinical Classification - no CRF\n",
    "Diabetes Hypoglycemic Event\n",
    "Drug Accountability - Horizontal & Vertical\n",
    "ECG Test Results - Central Reading\n",
    "\n",
    "'''"
   ]
  }
 ],
 "metadata": {
  "kernelspec": {
   "display_name": "scdm_workshop_2024-RLQtTa-6",
   "language": "python",
   "name": "python3"
  },
  "language_info": {
   "codemirror_mode": {
    "name": "ipython",
    "version": 3
   },
   "file_extension": ".py",
   "mimetype": "text/x-python",
   "name": "python",
   "nbconvert_exporter": "python",
   "pygments_lexer": "ipython3",
   "version": "3.10.9"
  },
  "orig_nbformat": 4,
  "vscode": {
   "interpreter": {
    "hash": "67ee1515d03873422e5acee950a92863f4595aca1599cf6a3f7c5f54e5ab1571"
   }
  }
 },
 "nbformat": 4,
 "nbformat_minor": 2
}
